{
 "cells": [
  {
   "cell_type": "code",
   "execution_count": 1,
   "id": "54374315-d6a3-4438-988f-4ab56b6e4381",
   "metadata": {},
   "outputs": [],
   "source": [
    "import numpy as np\n",
    "import pandas as pd\n",
    "import seaborn as sns\n",
    "import sklearn\n",
    "import matplotlib.pyplot as plt"
   ]
  },
  {
   "cell_type": "markdown",
   "id": "6f165319-de0b-4a86-afab-442e1abf5e17",
   "metadata": {},
   "source": [
    "### Week 5: Monet Painting Generation"
   ]
  },
  {
   "cell_type": "markdown",
   "id": "336972f4-3f0a-4a92-9beb-45a16900a0a2",
   "metadata": {},
   "source": [
    "#### Problem\n",
    "This project involves analyzing various paintings by Monet and creating an ML model that can modify photos to have a similar aesthetic as Monet's paintings. This data is sourced from https://www.kaggle.com/competitions/gan-getting-started/overview, containing 300 paintings by Monet, as well as various photos to try and stylize."
   ]
  },
  {
   "cell_type": "markdown",
   "id": "0a947e0c-372d-47f2-baff-cead12f707e3",
   "metadata": {},
   "source": [
    "#### EDA\n",
    "Show a few visualizations like histograms. Describe any data cleaning procedures. Based on your EDA, what is your plan of analysis?\n"
   ]
  },
  {
   "cell_type": "markdown",
   "id": "97928d94-9b38-4dfa-b3f0-ab382afec7fc",
   "metadata": {},
   "source": [
    "#### Model Architecture\n",
    "Describe your model architecture and reasoning for why you believe that specific architecture would be suitable for this problem."
   ]
  },
  {
   "cell_type": "markdown",
   "id": "f66e09d4-b4c9-4fcd-a45b-60fd8f97d810",
   "metadata": {},
   "source": [
    "#### Results and Analysis\n",
    "Run hyperparameter tuning, try different architectures for comparison, apply techniques to improve training or performance, and discuss what helped.\n",
    "\n",
    "Includes results with tables and figures. There is an analysis of why or why not something worked well, troubleshooting, and a hyperparameter optimization procedure summary.\n",
    "\n",
    "Copied from Week 4, might not apply."
   ]
  },
  {
   "cell_type": "markdown",
   "id": "77947faf-fc6b-40ca-9700-b5ff28097de5",
   "metadata": {},
   "source": [
    "#### Conclusion\n",
    "\n",
    "Discuss and interpret results as well as learnings and takeaways. What did and did not help improve the performance of your models? What improvements could you try in the future?"
   ]
  },
  {
   "cell_type": "code",
   "execution_count": null,
   "id": "821ccece-1372-4e3e-800a-7425bdb3560e",
   "metadata": {},
   "outputs": [],
   "source": []
  }
 ],
 "metadata": {
  "kernelspec": {
   "display_name": "Python 3 (ipykernel)",
   "language": "python",
   "name": "python3"
  },
  "language_info": {
   "codemirror_mode": {
    "name": "ipython",
    "version": 3
   },
   "file_extension": ".py",
   "mimetype": "text/x-python",
   "name": "python",
   "nbconvert_exporter": "python",
   "pygments_lexer": "ipython3",
   "version": "3.11.4"
  }
 },
 "nbformat": 4,
 "nbformat_minor": 5
}
